{
 "cells": [
  {
   "cell_type": "markdown",
   "metadata": {},
   "source": [
    "# Checkpoint 1"
   ]
  },
  {
   "cell_type": "markdown",
   "metadata": {},
   "source": [
    "Reminder: \n",
    "\n",
    "- You are being evaluated for compeletion and effort in this checkpoint. \n",
    "- Avoid manual labor / hard coding as much as possible, everything we've taught you so far are meant to simplify and automate your process."
   ]
  },
  {
   "cell_type": "markdown",
   "metadata": {},
   "source": [
    "We will be working with the same `states_edu.csv` that you should already be familiar with from the tutorial.\n",
    "\n",
    "We investigated Grade 8 reading score in the tutorial. For this checkpoint, you are asked to investigate another test. Here's an overview:\n",
    "\n",
    "* Choose a specific response variable to focus on\n",
    ">Grade 4 Math, Grade 4 Reading, Grade 8 Math\n",
    "* Pick or create features to use\n",
    ">Will all the features be useful in predicting test score? Are some more important than others? Should you standardize, bin, or scale the data?\n",
    "* Explore the data as it relates to that test\n",
    ">Create at least 2 visualizations (graphs), each with a caption describing the graph and what it tells us about the data\n",
    "* Create training and testing data\n",
    ">Do you want to train on all the data? Only data from the last 10 years? Only Michigan data?\n",
    "* Train a ML model to predict outcome \n",
    ">Define what you want to predict, and pick a model in sklearn to use (see sklearn <a href=\"https://scikit-learn.org/stable/modules/linear_model.html\">regressors</a>.\n",
    "* Summarize your findings\n",
    ">Write a 1 paragraph summary of what you did and make a recommendation about if and how student performance can be predicted\n",
    "\n",
    "Include comments throughout your code! Every cleanup and preprocessing task should be documented.\n",
    "\n",
    "Of course, if you're finding this assignment interesting (and we really hope you do!), you are welcome to do more than the requirements! For example, you may want to see if expenditure affects 4th graders more than 8th graders. Maybe you want to look into the extended version of this dataset and see how factors like sex and race are involved. You can include all your work in this notebook when you turn it in -- just always make sure you explain what you did and interpret your results. Good luck!"
   ]
  },
  {
   "cell_type": "markdown",
   "metadata": {},
   "source": [
    "<h2> Data Cleanup </h2>\n",
    "\n",
    "Import `numpy`, `pandas`, and `matplotlib`.\n",
    "\n",
    "(Feel free to import other libraries!)"
   ]
  },
  {
   "cell_type": "code",
   "execution_count": 2,
   "metadata": {},
   "outputs": [],
   "source": [
    "import numpy as np\n",
    "import pandas as pd\n",
    "import matplotlib.pyplot as plt"
   ]
  },
  {
   "cell_type": "markdown",
   "metadata": {},
   "source": [
    "Load in the \"states_edu.csv\" dataset and take a look at the head of the data"
   ]
  },
  {
   "cell_type": "code",
   "execution_count": 5,
   "metadata": {},
   "outputs": [],
   "source": [
    "df = pd.read_csv('../data/states_edu.csv')"
   ]
  },
  {
   "cell_type": "markdown",
   "metadata": {},
   "source": [
    "You should always familiarize yourself with what each column in the dataframe represents. Read about the states_edu dataset here: https://www.kaggle.com/noriuk/us-education-datasets-unification-project"
   ]
  },
  {
   "cell_type": "markdown",
   "metadata": {},
   "source": [
    "Use this space to rename columns, deal with missing data, etc. _(optional)_"
   ]
  },
  {
   "cell_type": "code",
   "execution_count": 6,
   "metadata": {},
   "outputs": [],
   "source": [
    "\n",
    "df = df.rename(columns={'STATE': 'State', 'YEAR': 'Year', 'ENROLL': 'Enroll', 'TOTAL_REVENUE': 'Total Revenue', 'FEDERAL_REVENUE': 'Federal Revenue', 'STATE_REVENUE': 'State Revenue', 'LOCAL_REVENUE': 'Local Revenue', 'TOTAL_EXPENDITURE': 'Total Expenditure', 'INSTRUCTION_EXPENDITURE': 'Instruction Expenditure', 'SUPPORT_SERVICES_EXPENDITURE': 'Support Services Expenditure', 'OTHER_EXPENDITURE': 'Other Expenditure', 'CAPITAL_OUTLAY_EXPENDITURE': 'Capital Outlay Expenditure', 'GRADES_PK_G': 'PreK Students', 'GRADES_KG_G': 'Kindergarten Students', 'GRADES_4_G': '4th Grade Students', 'GRADES_8_G': '8th Grade Students', 'GRADES_12_G': '12th Grade Students', 'GRADES_1_8_G': '1-8th Grade Students', 'GRADES_9_12_G': '9-12th Grade Students', 'GRADES_ALL_G': 'All Students', 'AVG_MATH_4_SCORE': '4th Grade Math Score', 'AVG_MATH_8_SCORE': '8th Grade Math Score', 'AVG_READING_4_SCORE': '4th Grade Reading Score', 'AVG_READING_8_SCORE': '8th Grade Reading Score'})\n",
    "\n",
    "\n"
   ]
  },
  {
   "cell_type": "markdown",
   "metadata": {},
   "source": [
    "<h2>Exploratory Data Analysis (EDA) </h2>"
   ]
  },
  {
   "cell_type": "markdown",
   "metadata": {},
   "source": [
    "Chosen Outcome Variable for Test: *ENTER YOUR CHOICE HERE*"
   ]
  },
  {
   "cell_type": "markdown",
   "metadata": {},
   "source": [
    "How many years of data are logged in our dataset? "
   ]
  },
  {
   "cell_type": "code",
   "execution_count": 9,
   "metadata": {},
   "outputs": [
    {
     "name": "stdout",
     "output_type": "stream",
     "text": [
      "Number of years of data logged in our dataset:\n",
      "33\n"
     ]
    }
   ],
   "source": [
    "\n",
    "print('Number of years of data logged in our dataset:')\n",
    "print(len(df.Year.unique()))"
   ]
  },
  {
   "cell_type": "markdown",
   "metadata": {},
   "source": [
    "Let's compare Michigan to Ohio. Which state has the higher average outcome score across all years?"
   ]
  },
  {
   "cell_type": "code",
   "execution_count": 17,
   "metadata": {},
   "outputs": [
    {
     "name": "stdout",
     "output_type": "stream",
     "text": [
      "Michigan vs Ohio\n",
      "PRIMARY_KEY                     NaN\n",
      "State                           NaN\n",
      "Year                            NaN\n",
      "Enroll                          NaN\n",
      "Total Revenue                   NaN\n",
      "Federal Revenue                 NaN\n",
      "State Revenue                   NaN\n",
      "Local Revenue                   NaN\n",
      "Total Expenditure               NaN\n",
      "Instruction Expenditure         NaN\n",
      "Support Services Expenditure    NaN\n",
      "Other Expenditure               NaN\n",
      "Capital Outlay Expenditure      NaN\n",
      "PreK Students                   NaN\n",
      "Kindergarten Students           NaN\n",
      "4th Grade Students              NaN\n",
      "8th Grade Students              NaN\n",
      "12th Grade Students             NaN\n",
      "1-8th Grade Students            NaN\n",
      "9-12th Grade Students           NaN\n",
      "All Students                    NaN\n",
      "4th Grade Math Score            NaN\n",
      "8th Grade Math Score            NaN\n",
      "4th Grade Reading Score         NaN\n",
      "8th Grade Reading Score         NaN\n",
      "dtype: object\n",
      "PRIMARY_KEY                     NaN\n",
      "State                           NaN\n",
      "Year                            NaN\n",
      "Enroll                          NaN\n",
      "Total Revenue                   NaN\n",
      "Federal Revenue                 NaN\n",
      "State Revenue                   NaN\n",
      "Local Revenue                   NaN\n",
      "Total Expenditure               NaN\n",
      "Instruction Expenditure         NaN\n",
      "Support Services Expenditure    NaN\n",
      "Other Expenditure               NaN\n",
      "Capital Outlay Expenditure      NaN\n",
      "PreK Students                   NaN\n",
      "Kindergarten Students           NaN\n",
      "4th Grade Students              NaN\n",
      "8th Grade Students              NaN\n",
      "12th Grade Students             NaN\n",
      "1-8th Grade Students            NaN\n",
      "9-12th Grade Students           NaN\n",
      "All Students                    NaN\n",
      "4th Grade Math Score            NaN\n",
      "8th Grade Math Score            NaN\n",
      "4th Grade Reading Score         NaN\n",
      "8th Grade Reading Score         NaN\n",
      "dtype: object\n"
     ]
    }
   ],
   "source": [
    "\n",
    "print('Michigan vs Ohio')\n",
    "print(df.loc[df['State'] == 'Michigan'].mean())\n",
    "print(df.loc[df['State'] == 'Ohio'].mean())\n"
   ]
  },
  {
   "cell_type": "markdown",
   "metadata": {},
   "source": [
    "Find the average for your outcome score across all states in 2019"
   ]
  },
  {
   "cell_type": "code",
   "execution_count": null,
   "metadata": {},
   "outputs": [],
   "source": [
    "\n",
    "print('Average outcome score across all states in 2019:')\n",
    "print(df.loc[df['Year'] == 2019].mean())"
   ]
  },
  {
   "cell_type": "markdown",
   "metadata": {},
   "source": [
    "Find the maximum outcome score for every state. \n",
    "\n",
    "Refer to the `Grouping and Aggregating` section in Tutorial 0 if you are stuck."
   ]
  },
  {
   "cell_type": "code",
   "execution_count": 20,
   "metadata": {},
   "outputs": [
    {
     "name": "stdout",
     "output_type": "stream",
     "text": [
      "Maximum outcome score for every state:\n",
      "                                    PRIMARY_KEY  Year     Enroll  \\\n",
      "State                                                              \n",
      "ALABAMA                            2019_ALABAMA  2019   748889.0   \n",
      "ALASKA                              2019_ALASKA  2019   133508.0   \n",
      "ARIZONA                            2019_ARIZONA  2019   987332.0   \n",
      "ARKANSAS                          2019_ARKANSAS  2019   479881.0   \n",
      "CALIFORNIA                      2019_CALIFORNIA  2019  6307022.0   \n",
      "COLORADO                          2019_COLORADO  2019   880678.0   \n",
      "CONNECTICUT                    2019_CONNECTICUT  2019   552512.0   \n",
      "DELAWARE                          2019_DELAWARE  2019   121845.0   \n",
      "DISTRICT_OF_COLUMBIA  2019_DISTRICT_OF_COLUMBIA  2019    80937.0   \n",
      "DODEA                                2019_DODEA  2019        NaN   \n",
      "FLORIDA                            2019_FLORIDA  2019  2776933.0   \n",
      "GEORGIA                            2019_GEORGIA  2019  1727085.0   \n",
      "HAWAII                              2019_HAWAII  2019   189887.0   \n",
      "IDAHO                                2019_IDAHO  2019   281452.0   \n",
      "ILLINOIS                          2019_ILLINOIS  2019  2117291.0   \n",
      "INDIANA                            2019_INDIANA  2019  1034588.0   \n",
      "IOWA                                  2019_IOWA  2019   508014.0   \n",
      "KANSAS                              2019_KANSAS  2019   496920.0   \n",
      "KENTUCKY                          2019_KENTUCKY  2019   688475.0   \n",
      "LOUISIANA                        2019_LOUISIANA  2019   808798.0   \n",
      "MAINE                                2019_MAINE  2019   213601.0   \n",
      "MARYLAND                          2019_MARYLAND  2019   879196.0   \n",
      "MASSACHUSETTS                2019_MASSACHUSETTS  2019   967200.0   \n",
      "MICHIGAN                          2019_MICHIGAN  2019  1764327.0   \n",
      "MINNESOTA                        2019_MINNESOTA  2019   843802.0   \n",
      "MISSISSIPPI                    2019_MISSISSIPPI  2019   504792.0   \n",
      "MISSOURI                          2019_MISSOURI  2019   921625.0   \n",
      "MONTANA                            2019_MONTANA  2019   165390.0   \n",
      "NATIONAL                          2019_NATIONAL  2019        NaN   \n",
      "NEBRASKA                          2019_NEBRASKA  2019   315542.0   \n",
      "NEVADA                              2019_NEVADA  2019   441623.0   \n",
      "NEW_HAMPSHIRE                2019_NEW_HAMPSHIRE  2019   204721.0   \n",
      "NEW_JERSEY                      2019_NEW_JERSEY  2019  1399409.0   \n",
      "NEW_MEXICO                      2019_NEW_MEXICO  2019   332849.0   \n",
      "NEW_YORK                          2019_NEW_YORK  2019  2879228.0   \n",
      "NORTH_CAROLINA              2019_NORTH_CAROLINA  2019  1468228.0   \n",
      "NORTH_DAKOTA                  2019_NORTH_DAKOTA  2019   119288.0   \n",
      "OHIO                                  2019_OHIO  2019  1846585.0   \n",
      "OKLAHOMA                          2019_OKLAHOMA  2019   672777.0   \n",
      "OREGON                              2019_OREGON  2019   574252.0   \n",
      "PENNSYLVANIA                  2019_PENNSYLVANIA  2019  1791100.0   \n",
      "RHODE_ISLAND                  2019_RHODE_ISLAND  2019   157286.0   \n",
      "SOUTH_CAROLINA              2019_SOUTH_CAROLINA  2019   743320.0   \n",
      "SOUTH_DAKOTA                  2019_SOUTH_DAKOTA  2019   136394.0   \n",
      "TENNESSEE                        2019_TENNESSEE  2019   999265.0   \n",
      "TEXAS                                2019_TEXAS  2019  5053291.0   \n",
      "UTAH                                  2019_UTAH  2019   580215.0   \n",
      "VERMONT                            2019_VERMONT  2019   101584.0   \n",
      "VIRGINIA                          2019_VIRGINIA  2019  1283493.0   \n",
      "WASHINGTON                      2019_WASHINGTON  2019  1083973.0   \n",
      "WEST_VIRGINIA                2019_WEST_VIRGINIA  2019   317719.0   \n",
      "WISCONSIN                        2019_WISCONSIN  2019   881552.0   \n",
      "WYOMING                            2019_WYOMING  2019   100899.0   \n",
      "\n",
      "                      Total Revenue  Federal Revenue  State Revenue  \\\n",
      "State                                                                 \n",
      "ALABAMA                   7726213.0        1134111.0      4649053.0   \n",
      "ALASKA                    2920986.0         420152.0      2026555.0   \n",
      "ARIZONA                   9272152.0        1579806.0      4458836.0   \n",
      "ARKANSAS                  5401016.0         827026.0      4122377.0   \n",
      "CALIFORNIA               89217262.0        9990221.0     50904567.0   \n",
      "COLORADO                 10123271.0         969288.0      4365019.0   \n",
      "CONNECTICUT              11419673.0         818573.0      4411204.0   \n",
      "DELAWARE                  2043577.0         192182.0      1172219.0   \n",
      "DISTRICT_OF_COLUMBIA      1382282.0         184825.0            0.0   \n",
      "DODEA                           NaN              NaN            NaN   \n",
      "FLORIDA                  30001821.0        4710376.0     11830218.0   \n",
      "GEORGIA                  19403453.0        2598486.0      8771192.0   \n",
      "HAWAII                    3030519.0         392837.0      2710361.0   \n",
      "IDAHO                     2266490.0         444112.0      1459554.0   \n",
      "ILLINOIS                 32908958.0        3809939.0     12053316.0   \n",
      "INDIANA                  14023240.0        1477561.0      7780711.0   \n",
      "IOWA                      6919477.0         728361.0      3583134.0   \n",
      "KANSAS                    6069563.0         673692.0      3967809.0   \n",
      "KENTUCKY                  7745928.0        1164688.0      4269100.0   \n",
      "LOUISIANA                 8477993.0        1549575.0      3588546.0   \n",
      "MAINE                     2845391.0         320917.0      1122001.0   \n",
      "MARYLAND                 14491642.0        1255964.0      6334951.0   \n",
      "MASSACHUSETTS            17484704.0        1197383.0      6808436.0   \n",
      "MICHIGAN                 20576110.0        2525528.0     11383198.0   \n",
      "MINNESOTA                12186135.0        1245368.0      7887346.0   \n",
      "MISSISSIPPI               4755399.0        1006465.0      2411621.0   \n",
      "MISSOURI                 10893231.0        1430854.0      4568867.0   \n",
      "MONTANA                   1804339.0         264517.0       851068.0   \n",
      "NATIONAL                        NaN              NaN            NaN   \n",
      "NEBRASKA                  4398811.0         571969.0      1437048.0   \n",
      "NEVADA                    4482886.0         447002.0      2816911.0   \n",
      "NEW_HAMPSHIRE             3150473.0         187243.0      1061011.0   \n",
      "NEW_JERSEY               30012666.0        2386865.0     11681799.0   \n",
      "NEW_MEXICO                3789651.0         753816.0      2615320.0   \n",
      "NEW_YORK                 66912661.0        5118477.0     27437593.0   \n",
      "NORTH_CAROLINA           16621268.0        2046954.0      8287126.0   \n",
      "NORTH_DAKOTA              1788749.0         277985.0       985365.0   \n",
      "OHIO                     24378660.0        2533882.0     10226228.0   \n",
      "OKLAHOMA                  6121188.0         968529.0      3014993.0   \n",
      "OREGON                    7418055.0         848637.0      3861438.0   \n",
      "PENNSYLVANIA             31077289.0        3371827.0     11181046.0   \n",
      "RHODE_ISLAND              2401541.0         247217.0       940989.0   \n",
      "SOUTH_CAROLINA            9161667.0        1058473.0      4262164.0   \n",
      "SOUTH_DAKOTA              1455737.0         262395.0       438629.0   \n",
      "TENNESSEE                 9585331.0        1272825.0      4395757.0   \n",
      "TEXAS                    58284155.0        7984614.0     22004299.0   \n",
      "UTAH                      4952923.0         570301.0      2533573.0   \n",
      "VERMONT                   2112365.0         173528.0      1614518.0   \n",
      "VIRGINIA                 16259274.0        1532041.0      6317714.0   \n",
      "WASHINGTON               14964364.0        1400984.0      9211201.0   \n",
      "WEST_VIRGINIA             3970941.0         513794.0      2033948.0   \n",
      "WISCONSIN                11697466.0        1258519.0      5986763.0   \n",
      "WYOMING                   2044669.0         154955.0      1175899.0   \n",
      "\n",
      "                      Local Revenue  Total Expenditure  \\\n",
      "State                                                    \n",
      "ALABAMA                   2603240.0          7847387.0   \n",
      "ALASKA                     573696.0          2968341.0   \n",
      "ARIZONA                   4128871.0          9581201.0   \n",
      "ARKANSAS                   835486.0          5669431.0   \n",
      "CALIFORNIA               30603616.0         85320133.0   \n",
      "COLORADO                  5044338.0          9878524.0   \n",
      "CONNECTICUT               6539874.0         10826431.0   \n",
      "DELAWARE                   737198.0          2041952.0   \n",
      "DISTRICT_OF_COLUMBIA      1235916.0          1360942.0   \n",
      "DODEA                           NaN                NaN   \n",
      "FLORIDA                  15691385.0         31219589.0   \n",
      "GEORGIA                   8824890.0         19172087.0   \n",
      "HAWAII                      91889.0          2733094.0   \n",
      "IDAHO                      628178.0          2100980.0   \n",
      "ILLINOIS                 18523918.0         33037244.0   \n",
      "INDIANA                   5790709.0         11535287.0   \n",
      "IOWA                      3069526.0          6972412.0   \n",
      "KANSAS                    2129558.0          6175724.0   \n",
      "KENTUCKY                  2596532.0          7786281.0   \n",
      "LOUISIANA                 3895318.0          8504567.0   \n",
      "MAINE                     1584947.0          2728535.0   \n",
      "MARYLAND                  7404856.0         13992191.0   \n",
      "MASSACHUSETTS             9949575.0         17037880.0   \n",
      "MICHIGAN                  7778516.0         20703780.0   \n",
      "MINNESOTA                 3779550.0         12848946.0   \n",
      "MISSISSIPPI               1653054.0          4631356.0   \n",
      "MISSOURI                  5399709.0         10719882.0   \n",
      "MONTANA                    739765.0          1879789.0   \n",
      "NATIONAL                        NaN                NaN   \n",
      "NEBRASKA                  2614937.0          4640422.0   \n",
      "NEVADA                    1744553.0          4881218.0   \n",
      "NEW_HAMPSHIRE             1976554.0          3124778.0   \n",
      "NEW_JERSEY               17143437.0         29665476.0   \n",
      "NEW_MEXICO                 694180.0          3945515.0   \n",
      "NEW_YORK                 36105265.0         68282026.0   \n",
      "NORTH_CAROLINA            7242123.0         14868070.0   \n",
      "NORTH_DAKOTA               647931.0          1963630.0   \n",
      "OHIO                     12807744.0         23352516.0   \n",
      "OKLAHOMA                  2504321.0          6184819.0   \n",
      "OREGON                    2974057.0          7501954.0   \n",
      "PENNSYLVANIA             17991950.0         30925177.0   \n",
      "RHODE_ISLAND              1285173.0          2358654.0   \n",
      "SOUTH_CAROLINA            4058717.0          9187299.0   \n",
      "SOUTH_DAKOTA               820464.0          1475864.0   \n",
      "TENNESSEE                 4094159.0          9680512.0   \n",
      "TEXAS                    30326508.0         59314884.0   \n",
      "UTAH                      2025290.0          4923657.0   \n",
      "VERMONT                    791317.0          2082696.0   \n",
      "VIRGINIA                  8903541.0         16497520.0   \n",
      "WASHINGTON                4655479.0         15253296.0   \n",
      "WEST_VIRGINIA             1524701.0          3670119.0   \n",
      "WISCONSIN                 5446300.0         11787535.0   \n",
      "WYOMING                    745758.0          2034229.0   \n",
      "\n",
      "                      Instruction Expenditure  Support Services Expenditure  \\\n",
      "State                                                                         \n",
      "ALABAMA                             3947003.0                     2439634.0   \n",
      "ALASKA                              1484610.0                     1068849.0   \n",
      "ARIZONA                             4296503.0                     2983729.0   \n",
      "ARKANSAS                            2658253.0                     1802769.0   \n",
      "CALIFORNIA                         42587272.0                    26058021.0   \n",
      "COLORADO                            4786838.0                     3333043.0   \n",
      "CONNECTICUT                         6110631.0                     3307162.0   \n",
      "DELAWARE                            1126775.0                      588181.0   \n",
      "DISTRICT_OF_COLUMBIA                 594396.0                      450060.0   \n",
      "DODEA                                     NaN                           NaN   \n",
      "FLORIDA                            15212112.0                     8465282.0   \n",
      "GEORGIA                            10534931.0                     5554271.0   \n",
      "HAWAII                              1468044.0                      901508.0   \n",
      "IDAHO                               1171313.0                      689190.0   \n",
      "ILLINOIS                           17804976.0                    10426170.0   \n",
      "INDIANA                             5746633.0                     3712136.0   \n",
      "IOWA                                3447707.0                     1978260.0   \n",
      "KANSAS                              3051755.0                     1692953.0   \n",
      "KENTUCKY                            3917968.0                     2425472.0   \n",
      "LOUISIANA                           4365583.0                     2793437.0   \n",
      "MAINE                               1459635.0                      938187.0   \n",
      "MARYLAND                            7779504.0                     4358416.0   \n",
      "MASSACHUSETTS                       9991819.0                     5043032.0   \n",
      "MICHIGAN                            9608877.0                     6735708.0   \n",
      "MINNESOTA                           6548885.0                     3016934.0   \n",
      "MISSISSIPPI                         2407637.0                     1551274.0   \n",
      "MISSOURI                            5488433.0                     3298811.0   \n",
      "MONTANA                              973199.0                      599074.0   \n",
      "NATIONAL                                  NaN                           NaN   \n",
      "NEBRASKA                            2526973.0                     1149107.0   \n",
      "NEVADA                              2288790.0                     1505591.0   \n",
      "NEW_HAMPSHIRE                       1743022.0                      959654.0   \n",
      "NEW_JERSEY                         15831343.0                     9549742.0   \n",
      "NEW_MEXICO                          1807514.0                     1256303.0   \n",
      "NEW_YORK                           43964520.0                    15883500.0   \n",
      "NORTH_CAROLINA                      8060544.0                     4102549.0   \n",
      "NORTH_DAKOTA                         867650.0                      483984.0   \n",
      "OHIO                               12247509.0                     7570565.0   \n",
      "OKLAHOMA                            3047217.0                     2041507.0   \n",
      "OREGON                              3834741.0                     2367410.0   \n",
      "PENNSYLVANIA                       16717308.0                     8464573.0   \n",
      "RHODE_ISLAND                        1340088.0                      811796.0   \n",
      "SOUTH_CAROLINA                      4274682.0                     3013294.0   \n",
      "SOUTH_DAKOTA                         730176.0                      440580.0   \n",
      "TENNESSEE                           5401812.0                     2915193.0   \n",
      "TEXAS                              27862199.0                    15169007.0   \n",
      "UTAH                                2591600.0                     1217100.0   \n",
      "VERMONT                             1013209.0                      583178.0   \n",
      "VIRGINIA                            8944614.0                     5164699.0   \n",
      "WASHINGTON                          7087365.0                     4904575.0   \n",
      "WEST_VIRGINIA                       2010407.0                     1161944.0   \n",
      "WISCONSIN                           6138402.0                     3691809.0   \n",
      "WYOMING                              921494.0                      585700.0   \n",
      "\n",
      "                      ...  4th Grade Students  8th Grade Students  \\\n",
      "State                 ...                                           \n",
      "ALABAMA               ...             60012.0             60004.0   \n",
      "ALASKA                ...             10926.0             11140.0   \n",
      "ARIZONA               ...             89184.0             86312.0   \n",
      "ARKANSAS              ...             38800.0             37369.0   \n",
      "CALIFORNIA            ...            493415.0            500143.0   \n",
      "COLORADO              ...             69784.0             67854.0   \n",
      "CONNECTICUT           ...             45307.0             45854.0   \n",
      "DELAWARE              ...             10838.0             10494.0   \n",
      "DISTRICT_OF_COLUMBIA  ...              6339.0              6085.0   \n",
      "DODEA                 ...                 NaN                 NaN   \n",
      "FLORIDA               ...            220504.0            211073.0   \n",
      "GEORGIA               ...            138249.0            133128.0   \n",
      "HAWAII                ...             15703.0             14543.0   \n",
      "IDAHO                 ...             24003.0             23414.0   \n",
      "ILLINOIS              ...            160495.0            162192.0   \n",
      "INDIANA               ...             82387.0             82728.0   \n",
      "IOWA                  ...             37980.0             39039.0   \n",
      "KANSAS                ...             37692.0             37189.0   \n",
      "KENTUCKY              ...             52487.0             51306.0   \n",
      "LOUISIANA             ...             63884.0             61997.0   \n",
      "MAINE                 ...             17419.0             17493.0   \n",
      "MARYLAND              ...             70330.0             69567.0   \n",
      "MASSACHUSETTS         ...             79385.0             78635.0   \n",
      "MICHIGAN              ...            134163.0            139797.0   \n",
      "MINNESOTA             ...             67226.0             67909.0   \n",
      "MISSISSIPPI           ...             41820.0             39970.0   \n",
      "MISSOURI              ...             71928.0             74436.0   \n",
      "MONTANA               ...             13009.0             13342.0   \n",
      "NATIONAL              ...                 NaN                 NaN   \n",
      "NEBRASKA              ...             24169.0             23722.0   \n",
      "NEVADA                ...             38624.0             36389.0   \n",
      "NEW_HAMPSHIRE         ...             17275.0             17703.0   \n",
      "NEW_JERSEY            ...            101704.0            104437.0   \n",
      "NEW_MEXICO            ...             26363.0             26211.0   \n",
      "NEW_YORK              ...            219305.0            219335.0   \n",
      "NORTH_CAROLINA        ...            122866.0            119636.0   \n",
      "NORTH_DAKOTA          ...              9614.0              9943.0   \n",
      "OHIO                  ...            143373.0            147161.0   \n",
      "OKLAHOMA              ...             52385.0             49462.0   \n",
      "OREGON                ...             46543.0             44802.0   \n",
      "PENNSYLVANIA          ...            142366.0            151250.0   \n",
      "RHODE_ISLAND          ...             12717.0             13018.0   \n",
      "SOUTH_CAROLINA        ...             60890.0             57033.0   \n",
      "SOUTH_DAKOTA          ...             11116.0             11654.0   \n",
      "TENNESSEE             ...             78472.0             74909.0   \n",
      "TEXAS                 ...            413843.0            398662.0   \n",
      "UTAH                  ...             52970.0             50627.0   \n",
      "VERMONT               ...              8457.0              8375.0   \n",
      "VIRGINIA              ...             99305.0             96881.0   \n",
      "WASHINGTON            ...             87366.0             82274.0   \n",
      "WEST_VIRGINIA         ...             26266.0             27392.0   \n",
      "WISCONSIN             ...             65996.0             68663.0   \n",
      "WYOMING               ...              8269.0              8302.0   \n",
      "\n",
      "                      12th Grade Students  1-8th Grade Students  \\\n",
      "State                                                             \n",
      "ALABAMA                           52848.0              473954.0   \n",
      "ALASKA                            10092.0               85124.0   \n",
      "ARIZONA                           86960.0              694046.0   \n",
      "ARKANSAS                          33097.0              297045.0   \n",
      "CALIFORNIA                       498403.0             3929869.0   \n",
      "COLORADO                          68112.0              543056.0   \n",
      "CONNECTICUT                       41381.0              357061.0   \n",
      "DELAWARE                           9100.0               84105.0   \n",
      "DISTRICT_OF_COLUMBIA               4806.0               46680.0   \n",
      "DODEA                                 NaN                   NaN   \n",
      "FLORIDA                          202952.0             1707618.0   \n",
      "GEORGIA                          115678.0             1071088.0   \n",
      "HAWAII                            11326.0              120253.0   \n",
      "IDAHO                             21512.0              184940.0   \n",
      "ILLINOIS                         150045.0             1277009.0   \n",
      "INDIANA                           80475.0              643350.0   \n",
      "IOWA                              39114.0              295181.0   \n",
      "KANSAS                            34437.0              294230.0   \n",
      "KENTUCKY                          45593.0              412196.0   \n",
      "LOUISIANA                         45114.0              474287.0   \n",
      "MAINE                             16322.0              135272.0   \n",
      "MARYLAND                          61767.0              535023.0   \n",
      "MASSACHUSETTS                     71684.0              612594.0   \n",
      "MICHIGAN                         126380.0             1065655.0   \n",
      "MINNESOTA                         74749.0              524829.0   \n",
      "MISSISSIPPI                       30933.0              316525.0   \n",
      "MISSOURI                          67254.0              559654.0   \n",
      "MONTANA                           11611.0               99668.0   \n",
      "NATIONAL                              NaN                   NaN   \n",
      "NEBRASKA                          24349.0              187301.0   \n",
      "NEVADA                            33456.0              293071.0   \n",
      "NEW_HAMPSHIRE                     15959.0              135657.0   \n",
      "NEW_JERSEY                        98845.0              813471.0   \n",
      "NEW_MEXICO                        21573.0              207116.0   \n",
      "NEW_YORK                         194079.0             1718478.0   \n",
      "NORTH_CAROLINA                   105208.0              947000.0   \n",
      "NORTH_DAKOTA                       9306.0               71244.0   \n",
      "OHIO                             137196.0             1134596.0   \n",
      "OKLAHOMA                          43534.0              409754.0   \n",
      "OREGON                            48735.0              356642.0   \n",
      "PENNSYLVANIA                     153112.0             1130386.0   \n",
      "RHODE_ISLAND                      10848.0              100850.0   \n",
      "SOUTH_CAROLINA                    50100.0              466891.0   \n",
      "SOUTH_DAKOTA                       9939.0               86013.0   \n",
      "TENNESSEE                         69498.0              606195.0   \n",
      "TEXAS                            345243.0             3215536.0   \n",
      "UTAH                              46516.0              407669.0   \n",
      "VERMONT                            7714.0               65190.0   \n",
      "VIRGINIA                          93121.0              773615.0   \n",
      "WASHINGTON                        91892.0              667327.0   \n",
      "WEST_VIRGINIA                     23488.0              179434.0   \n",
      "WISCONSIN                         72380.0              523149.0   \n",
      "WYOMING                            7129.0               59453.0   \n",
      "\n",
      "                      9-12th Grade Students  All Students  \\\n",
      "State                                                       \n",
      "ALABAMA                            222638.0      755552.0   \n",
      "ALASKA                              42441.0      135373.0   \n",
      "ARIZONA                            354901.0     1123137.0   \n",
      "ARKANSAS                           143487.0      496085.0   \n",
      "CALIFORNIA                        2013687.0     6441557.0   \n",
      "COLORADO                           270405.0      910280.0   \n",
      "CONNECTICUT                        177037.0      577390.0   \n",
      "DELAWARE                            40903.0      136293.0   \n",
      "DISTRICT_OF_COLUMBIA                20242.0       87315.0   \n",
      "DODEA                                   NaN           NaN   \n",
      "FLORIDA                            851483.0     2832424.0   \n",
      "GEORGIA                            522034.0     1768642.0   \n",
      "HAWAII                              55258.0      189887.0   \n",
      "IDAHO                               90256.0      301186.0   \n",
      "ILLINOIS                           640597.0     2119707.0   \n",
      "INDIANA                            325521.0     1054187.0   \n",
      "IOWA                               157322.0      511850.0   \n",
      "KANSAS                             144334.0      497275.0   \n",
      "KENTUCKY                           198841.0      688640.0   \n",
      "LOUISIANA                          207966.0      800560.0   \n",
      "MAINE                               65503.0      216995.0   \n",
      "MARYLAND                           272575.0      893684.0   \n",
      "MASSACHUSETTS                      298033.0      982989.0   \n",
      "MICHIGAN                           549291.0     1785160.0   \n",
      "MINNESOTA                          282120.0      884944.0   \n",
      "MISSISSIPPI                        137511.0      506668.0   \n",
      "MISSOURI                           286078.0      920353.0   \n",
      "MONTANA                             50348.0      165547.0   \n",
      "NATIONAL                                NaN           NaN   \n",
      "NEBRASKA                            94935.0      323766.0   \n",
      "NEVADA                             141950.0      485785.0   \n",
      "NEW_HAMPSHIRE                       67384.0      208461.0   \n",
      "NEW_JERSEY                         412848.0     1410421.0   \n",
      "NEW_MEXICO                          99856.0      340365.0   \n",
      "NEW_YORK                           858087.0     2888233.0   \n",
      "NORTH_CAROLINA                     470877.0     1553513.0   \n",
      "NORTH_DAKOTA                        38242.0      120123.0   \n",
      "OHIO                               585862.0     1847114.0   \n",
      "OKLAHOMA                           191296.0      695092.0   \n",
      "OREGON                             181719.0      608014.0   \n",
      "PENNSYLVANIA                       648688.0     1871060.0   \n",
      "RHODE_ISLAND                        49616.0      159375.0   \n",
      "SOUTH_CAROLINA                     224093.0      777507.0   \n",
      "SOUTH_DAKOTA                        44300.0      144685.0   \n",
      "TENNESSEE                          293535.0     1001967.0   \n",
      "TEXAS                             1548389.0     5401341.0   \n",
      "UTAH                               193167.0      668274.0   \n",
      "VERMONT                             32195.0      106341.0   \n",
      "VIRGINIA                           391435.0     1291462.0   \n",
      "WASHINGTON                         340375.0     1110367.0   \n",
      "WEST_VIRGINIA                       94012.0      351837.0   \n",
      "WISCONSIN                          292100.0      881780.0   \n",
      "WYOMING                             31388.0      102074.0   \n",
      "\n",
      "                      4th Grade Math Score  8th Grade Math Score  \\\n",
      "State                                                              \n",
      "ALABAMA                              233.0                 269.0   \n",
      "ALASKA                               237.0                 283.0   \n",
      "ARIZONA                              240.0                 283.0   \n",
      "ARKANSAS                             240.0                 279.0   \n",
      "CALIFORNIA                           235.0                 277.0   \n",
      "COLORADO                             247.0                 292.0   \n",
      "CONNECTICUT                          245.0                 289.0   \n",
      "DELAWARE                             243.0                 284.0   \n",
      "DISTRICT_OF_COLUMBIA                 235.0                 269.0   \n",
      "DODEA                                250.0                 293.0   \n",
      "FLORIDA                              246.0                 281.0   \n",
      "GEORGIA                              240.0                 281.0   \n",
      "HAWAII                               243.0                 281.0   \n",
      "IDAHO                                242.0                 287.0   \n",
      "ILLINOIS                             239.0                 285.0   \n",
      "INDIANA                              249.0                 288.0   \n",
      "IOWA                                 246.0                 286.0   \n",
      "KANSAS                               248.0                 290.0   \n",
      "KENTUCKY                             242.0                 282.0   \n",
      "LOUISIANA                            234.0                 273.0   \n",
      "MAINE                                246.0                 289.0   \n",
      "MARYLAND                             247.0                 288.0   \n",
      "MASSACHUSETTS                        253.0                 301.0   \n",
      "MICHIGAN                             238.0                 280.0   \n",
      "MINNESOTA                            253.0                 295.0   \n",
      "MISSISSIPPI                          241.0                 274.0   \n",
      "MISSOURI                             241.0                 286.0   \n",
      "MONTANA                              244.0                 293.0   \n",
      "NATIONAL                             242.0                 285.0   \n",
      "NEBRASKA                             246.0                 288.0   \n",
      "NEVADA                               237.0                 278.0   \n",
      "NEW_HAMPSHIRE                        253.0                 296.0   \n",
      "NEW_JERSEY                           249.0                 296.0   \n",
      "NEW_MEXICO                           233.0                 274.0   \n",
      "NEW_YORK                             243.0                 283.0   \n",
      "NORTH_CAROLINA                       245.0                 286.0   \n",
      "NORTH_DAKOTA                         246.0                 293.0   \n",
      "OHIO                                 246.0                 290.0   \n",
      "OKLAHOMA                             240.0                 279.0   \n",
      "OREGON                               240.0                 285.0   \n",
      "PENNSYLVANIA                         246.0                 290.0   \n",
      "RHODE_ISLAND                         242.0                 284.0   \n",
      "SOUTH_CAROLINA                       238.0                 282.0   \n",
      "SOUTH_DAKOTA                         242.0                 291.0   \n",
      "TENNESSEE                            241.0                 280.0   \n",
      "TEXAS                                244.0                 290.0   \n",
      "UTAH                                 244.0                 287.0   \n",
      "VERMONT                              248.0                 295.0   \n",
      "VIRGINIA                             248.0                 290.0   \n",
      "WASHINGTON                           246.0                 290.0   \n",
      "WEST_VIRGINIA                        237.0                 274.0   \n",
      "WISCONSIN                            245.0                 289.0   \n",
      "WYOMING                              248.0                 289.0   \n",
      "\n",
      "                      4th Grade Reading Score  8th Grade Reading Score  \n",
      "State                                                                   \n",
      "ALABAMA                                 220.0                    259.0  \n",
      "ALASKA                                  214.0                    261.0  \n",
      "ARIZONA                                 216.0                    263.0  \n",
      "ARKANSAS                                219.0                    262.0  \n",
      "CALIFORNIA                              216.0                    263.0  \n",
      "COLORADO                                227.0                    271.0  \n",
      "CONNECTICUT                             230.0                    275.0  \n",
      "DELAWARE                                226.0                    267.0  \n",
      "DISTRICT_OF_COLUMBIA                    214.0                    250.0  \n",
      "DODEA                                   235.0                    280.0  \n",
      "FLORIDA                                 228.0                    267.0  \n",
      "GEORGIA                                 222.0                    266.0  \n",
      "HAWAII                                  218.0                    261.0  \n",
      "IDAHO                                   223.0                    270.0  \n",
      "ILLINOIS                                222.0                    267.0  \n",
      "INDIANA                                 227.0                    272.0  \n",
      "IOWA                                    225.0                    269.0  \n",
      "KANSAS                                  225.0                    269.0  \n",
      "KENTUCKY                                228.0                    270.0  \n",
      "LOUISIANA                               216.0                    257.0  \n",
      "MAINE                                   228.0                    271.0  \n",
      "MARYLAND                                232.0                    274.0  \n",
      "MASSACHUSETTS                           237.0                    278.0  \n",
      "MICHIGAN                                220.0                    266.0  \n",
      "MINNESOTA                               227.0                    271.0  \n",
      "MISSISSIPPI                             219.0                    256.0  \n",
      "MISSOURI                                224.0                    268.0  \n",
      "MONTANA                                 227.0                    273.0  \n",
      "NATIONAL                                223.0                    268.0  \n",
      "NEBRASKA                                227.0                    270.0  \n",
      "NEVADA                                  218.0                    262.0  \n",
      "NEW_HAMPSHIRE                           232.0                    275.0  \n",
      "NEW_JERSEY                              233.0                    276.0  \n",
      "NEW_MEXICO                              212.0                    258.0  \n",
      "NEW_YORK                                224.0                    266.0  \n",
      "NORTH_CAROLINA                          226.0                    265.0  \n",
      "NORTH_DAKOTA                            226.0                    270.0  \n",
      "OHIO                                    226.0                    269.0  \n",
      "OKLAHOMA                                222.0                    265.0  \n",
      "OREGON                                  220.0                    268.0  \n",
      "PENNSYLVANIA                            227.0                    272.0  \n",
      "RHODE_ISLAND                            225.0                    267.0  \n",
      "SOUTH_CAROLINA                          218.0                    261.0  \n",
      "SOUTH_DAKOTA                            223.0                    270.0  \n",
      "TENNESSEE                               220.0                    265.0  \n",
      "TEXAS                                   220.0                    264.0  \n",
      "UTAH                                    226.0                    270.0  \n",
      "VERMONT                                 230.0                    274.0  \n",
      "VIRGINIA                                229.0                    269.0  \n",
      "WASHINGTON                              226.0                    272.0  \n",
      "WEST_VIRGINIA                           219.0                    264.0  \n",
      "WISCONSIN                               224.0                    270.0  \n",
      "WYOMING                                 228.0                    271.0  \n",
      "\n",
      "[53 rows x 24 columns]\n"
     ]
    }
   ],
   "source": [
    "\n",
    "print('Maximum outcome score for every state:')\n",
    "print(df.groupby('State').max())\n"
   ]
  },
  {
   "cell_type": "markdown",
   "metadata": {},
   "source": [
    "<h2> Feature Engineering </h2>\n",
    "\n",
    "After exploring the data, you can choose to modify features that you would use to predict the performance of the students on your chosen response variable. \n",
    "\n",
    "You can also create your own features. For example, perhaps you figured that maybe a state's expenditure per student may affect their overall academic performance so you create a expenditure_per_student feature.\n",
    "\n",
    "Use this space to modify or create features."
   ]
  },
  {
   "cell_type": "code",
   "execution_count": 22,
   "metadata": {},
   "outputs": [],
   "source": [
    "\n",
    "df['Total Revenue Per Student'] = df['Total Revenue'] / df['Enroll']\n",
    "df['Total Expenditure Per Student'] = df['Total Expenditure'] / df['Enroll']\n",
    "df['Instruction Expenditure Per Student'] = df['Instruction Expenditure'] / df['Enroll']\n",
    "df['Support Services Expenditure Per Student'] = df['Support Services Expenditure'] / df['Enroll']\n",
    "df['Other Expenditure Per Student'] = df['Other Expenditure'] / df['Enroll']\n",
    "df['Capital Outlay Expenditure Per Student'] = df['Capital Outlay Expenditure'] / df['Enroll']\n",
    "df['PreK Students Per Student'] = df['PreK Students'] / df['Enroll']\n",
    "df['Kindergarten Students Per Student'] = df['Kindergarten Students'] / df['Enroll']\n",
    "df['4th Grade Students Per Student'] = df['4th Grade Students'] / df['Enroll']\n",
    "df['8th Grade Students Per Student'] = df['8th Grade Students'] / df['Enroll']\n",
    "df['12th Grade Students Per Student'] = df['12th Grade Students'] / df['Enroll']\n",
    "df['1-8th Grade Students Per Student'] = df['1-8th Grade Students'] / df['Enroll']\n",
    "df['9-12th Grade Students Per Student'] = df['9-12th Grade Students'] / df['Enroll']\n",
    "df['All Students Per Student'] = df['All Students'] / df['Enroll']\n",
    "df['4th Grade Math Score Per Student'] = df['4th Grade Math Score'] / df['Enroll']\n",
    "df['8th Grade Math Score Per Student'] = df['8th Grade Math Score'] / df['Enroll']\n",
    "df['4th Grade Reading Score Per Student'] = df['4th Grade Reading Score'] / df['Enroll']\n",
    "df['8th Grade Reading Score Per Student'] = df['8th Grade Reading Score'] / df['Enroll']\n",
    "\n"
   ]
  },
  {
   "cell_type": "markdown",
   "metadata": {},
   "source": [
    "Feature engineering justification: **<BRIEFLY DESCRIBE WHY YOU MADE THE CHANGES THAT YOU DID\\>**"
   ]
  },
  {
   "cell_type": "markdown",
   "metadata": {},
   "source": [
    "<h2>Visualization</h2>\n",
    "\n",
    "Investigate the relationship between your chosen response variable and at least two predictors using visualizations. Write down your observations.\n",
    "\n",
    "**Visualization 1**"
   ]
  },
  {
   "cell_type": "code",
   "execution_count": 24,
   "metadata": {},
   "outputs": [
    {
     "name": "stdout",
     "output_type": "stream",
     "text": [
      "Correlation between Total Revenue Per Student and 4th Grade Math Score Per Student:\n"
     ]
    },
    {
     "data": {
      "image/png": "[encoded data removed]",
      "text/plain": [
       "<Figure size 640x480 with 1 Axes>"
      ]
     },
     "metadata": {},
     "output_type": "display_data"
    }
   ],
   "source": [
    "print('Correlation between Total Revenue Per Student and 4th Grade Math Score Per Student:')\n",
    "plt.scatter(df['Total Revenue Per Student'], df['4th Grade Math Score Per Student'])\n",
    "plt.xlabel('Total Revenue Per Student')\n",
    "plt.ylabel('4th Grade Math Score Per Student')\n",
    "plt.show()\n"
   ]
  },
  {
   "cell_type": "markdown",
   "metadata": {},
   "source": [
    "**<CAPTION FOR VIZ 1>**\n",
    "Correlation between Total Revenue Per Student and 4th Grade Math Score Per Student:"
   ]
  },
  {
   "cell_type": "markdown",
   "metadata": {},
   "source": [
    "**Visualization 2**"
   ]
  },
  {
   "cell_type": "code",
   "execution_count": 25,
   "metadata": {},
   "outputs": [
    {
     "name": "stdout",
     "output_type": "stream",
     "text": [
      "Correlation between Total Revenue Per Student and 8th Grade Math Score Per Student:\n"
     ]
    },
    {
     "data": {
      "image/png": "[encoded data removed]",
      "text/plain": [
       "<Figure size 640x480 with 1 Axes>"
      ]
     },
     "metadata": {},
     "output_type": "display_data"
    }
   ],
   "source": [
    "\n",
    "print('Correlation between Total Revenue Per Student and 8th Grade Math Score Per Student:')\n",
    "plt.scatter(df['Total Revenue Per Student'], df['8th Grade Math Score Per Student'])\n",
    "plt.xlabel('Total Revenue Per Student')\n",
    "plt.ylabel('8th Grade Math Score Per Student')\n",
    "plt.show()\n"
   ]
  },
  {
   "cell_type": "markdown",
   "metadata": {},
   "source": [
    "**<CAPTION FOR VIZ 2>**\n",
    "Correlation between Total Revenue Per Student and 8th Grade Math Score Per Student:"
   ]
  },
  {
   "cell_type": "markdown",
   "metadata": {},
   "source": [
    "<h2> Data Creation </h2>\n",
    "\n",
    "_Use this space to create train/test data_"
   ]
  },
  {
   "cell_type": "code",
   "execution_count": 30,
   "metadata": {},
   "outputs": [],
   "source": [
    "from sklearn.model_selection import train_test_split"
   ]
  },
  {
   "cell_type": "code",
   "execution_count": 31,
   "metadata": {},
   "outputs": [],
   "source": [
    "\n",
    "X = df[['Total Revenue Per Student']]\n",
    "y = df[['4th Grade Math Score Per Student']]\n",
    "\n"
   ]
  },
  {
   "cell_type": "code",
   "execution_count": 41,
   "metadata": {},
   "outputs": [],
   "source": [
    "# X_train, X_test, y_train, y_test = train_test_split(\n",
    "#      X, y, test_size=, random_state=42)\n",
    "\n",
    "X_train, X_test, y_train, y_test = train_test_split(X, y, test_size=0.2, random_state=42)"
   ]
  },
  {
   "cell_type": "markdown",
   "metadata": {},
   "source": [
    "<h2> Prediction </h2>"
   ]
  },
  {
   "cell_type": "markdown",
   "metadata": {},
   "source": [
    "ML Models [Resource](https://medium.com/@vijaya.beeravalli/comparison-of-machine-learning-classification-models-for-credit-card-default-data-c3cf805c9a5a)"
   ]
  },
  {
   "cell_type": "code",
   "execution_count": 35,
   "metadata": {},
   "outputs": [],
   "source": [
    "# import your sklearn class here\n",
    "from sklearn.linear_model import LinearRegression"
   ]
  },
  {
   "cell_type": "code",
   "execution_count": 36,
   "metadata": {},
   "outputs": [],
   "source": [
    "# create your model here\n",
    "model = LinearRegression()"
   ]
  },
  {
   "cell_type": "code",
   "execution_count": null,
   "metadata": {},
   "outputs": [],
   "source": [
    "model.fit(X_train, y_train)"
   ]
  },
  {
   "cell_type": "code",
   "execution_count": null,
   "metadata": {},
   "outputs": [],
   "source": [
    "y_pred = model.predict(X_test)"
   ]
  },
  {
   "cell_type": "markdown",
   "metadata": {},
   "source": [
    "## Evaluation"
   ]
  },
  {
   "cell_type": "markdown",
   "metadata": {},
   "source": [
    "Choose some metrics to evaluate the performance of your model, some of them are mentioned in the tutorial."
   ]
  },
  {
   "cell_type": "code",
   "execution_count": null,
   "metadata": {},
   "outputs": [],
   "source": [
    "#Choose some metrics to evaluate the performance of your model, some of them are mentioned in the tutorial.\n",
    "from sklearn.metrics import mean_squared_error, r2_score\n",
    "print('Mean squared error:')\n",
    "print(mean_squared_error(y_test, y_pred))\n",
    "print('Coefficient of determination:')\n",
    "print(r2_score(y_test, y_pred))\n",
    "print('Slope:')\n",
    "print(model.coef_)\n",
    "print('Intercept:')\n",
    "print(model.intercept_)\n",
    "print('Model score:')\n",
    "print(model.score(X_test, y_test))\n"
   ]
  },
  {
   "cell_type": "markdown",
   "metadata": {},
   "source": [
    "We have copied over the graphs that visualize the model's performance on the training and testing set. \n",
    "\n",
    "Change `col_name` and modify the call to `plt.ylabel()` to isolate how a single predictor affects the model."
   ]
  },
  {
   "cell_type": "code",
   "execution_count": null,
   "metadata": {},
   "outputs": [],
   "source": [
    "# col_name = 'COLUMN NAME OF ONE PREDICTOR'\n",
    "\n",
    "# f = plt.figure(figsize=(12,6))\n",
    "# plt.scatter(X_train[col_name], y_train, color = \"red\")\n",
    "# plt.scatter(X_train[col_name], model.predict(X_train), color = \"green\")\n",
    "\n",
    "# plt.legend(['True Training','Predicted Training'])\n",
    "# plt.xlabel(col_name)\n",
    "# plt.ylabel('NAME OF THE PREDICTOR')\n",
    "# plt.title(\"Model Behavior On Training Set\")"
   ]
  },
  {
   "cell_type": "code",
   "execution_count": null,
   "metadata": {},
   "outputs": [],
   "source": [
    "# col_name = 'COLUMN NAME OF ONE PREDICTOR\"\n",
    "\n",
    "# f = plt.figure(figsize=(12,6))\n",
    "# plt.scatter(X_test[col_name], y_test, color = \"blue\")\n",
    "# plt.scatter(X_test[col_name], model.predict(X_test), color = \"black\")\n",
    "\n",
    "# plt.legend(['True testing','Predicted testing'])\n",
    "# plt.xlabel(col_name)\n",
    "# plt.ylabel('NAME OF THE PREDICTOR')\n",
    "# plt.title(\"Model Behavior on Testing Set\")"
   ]
  },
  {
   "cell_type": "markdown",
   "metadata": {},
   "source": [
    "<h2> Summary </h2>"
   ]
  },
  {
   "cell_type": "markdown",
   "metadata": {},
   "source": [
    "**<WRITE A PARAGRAPH SUMMARIZING YOUR WORK, FINDINGS, AND THE PERFORMANCE OF YOUR MODEL\\>**"
   ]
  },
  {
   "cell_type": "markdown",
   "metadata": {},
   "source": [
    "I chose to look at the correlation between total revenue per student and 4th grade math score per student. \n",
    "I found that the correlation was 0.14, which is a very weak correlation. \n",
    "This means that there is not a strong relationship between total revenue per student and 4th grade math score per student. \n",
    "I also found that the model score was 0.02, which is very low. This means that the model is not very accurate. \n",
    "I also found that the slope was 0.0000  and the intercept was 0.834. This means that the model is not very accurate. "
   ]
  }
 ],
 "metadata": {
  "kernelspec": {
   "display_name": "Python 3.9.0 64-bit",
   "language": "python",
   "name": "python3"
  },
  "language_info": {
   "codemirror_mode": {
    "name": "ipython",
    "version": 3
   },
   "file_extension": ".py",
   "mimetype": "text/x-python",
   "name": "python",
   "nbconvert_exporter": "python",
   "pygments_lexer": "ipython3",
   "version": "3.11.5"
  },
  "vscode": {
   "interpreter": {
    "hash": "6cf8df3ff69f85f626faf55c10df6fe2cb9d1236b4dc73844ee4dc01369c2c99"
   }
  }
 },
 "nbformat": 4,
 "nbformat_minor": 4
}
